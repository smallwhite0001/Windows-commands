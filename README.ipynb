{
 "cells": [
  {
   "cell_type": "markdown",
   "metadata": {},
   "source": [
    "# Windows 终端使用与常用命令"
   ]
  },
  {
   "cell_type": "markdown",
   "metadata": {},
   "source": [
    "Windows 系统基本所有的常规操作都可以通过图形界面完成， 而不需要使用 Terminal 终端窗口和命令。但有时使用终端和命令又是必要的，在某些应用场景下比图形界面更高效。例如你需要用命令来自动完成任务或执行批量操作。"
   ]
  },
  {
   "cell_type": "markdown",
   "metadata": {},
   "source": [
    "## 如何打开终端窗口"
   ]
  },
  {
   "cell_type": "markdown",
   "metadata": {},
   "source": [
    "许多人不知道终端窗口在哪里打开，其实打开终端窗口方法非常多："
   ]
  },
  {
   "cell_type": "markdown",
   "metadata": {},
   "source": [
    "- 开始菜单找"
   ]
  },
  {
   "cell_type": "markdown",
   "metadata": {},
   "source": [
    "![](imgs/2021-11-11_21-36-08.png)"
   ]
  },
  {
   "cell_type": "markdown",
   "metadata": {},
   "source": [
    "- 运行 cmd"
   ]
  },
  {
   "cell_type": "markdown",
   "metadata": {},
   "source": [
    "按快捷键 `Win + R` 打开运行，输入 `cmd`，点确定；"
   ]
  },
  {
   "cell_type": "markdown",
   "metadata": {},
   "source": [
    "![](imgs/2021-11-11_21-40-15.png)"
   ]
  },
  {
   "cell_type": "markdown",
   "metadata": {},
   "source": [
    "- 搜索 cmd"
   ]
  },
  {
   "cell_type": "markdown",
   "metadata": {},
   "source": [
    "按快捷键 `Win + S` 打开搜索，输入 `cmd`："
   ]
  },
  {
   "cell_type": "markdown",
   "metadata": {},
   "source": [
    "![](imgs/2021-11-11_21-42-00.png)"
   ]
  },
  {
   "cell_type": "markdown",
   "metadata": {},
   "source": [
    "- 开始菜单右键单击"
   ]
  },
  {
   "cell_type": "markdown",
   "metadata": {},
   "source": [
    "![](imgs/2021-11-11_21-44-14.png)"
   ]
  },
  {
   "cell_type": "markdown",
   "metadata": {},
   "source": [
    "- 文件夹地址栏输入 `cmd`，回车"
   ]
  },
  {
   "cell_type": "markdown",
   "metadata": {},
   "source": [
    "![](imgs/2021-11-11_21-46-02.png)"
   ]
  },
  {
   "cell_type": "markdown",
   "metadata": {},
   "source": [
    "这种方法打开的终端，直接进入这个盘符或文件夹。"
   ]
  },
  {
   "cell_type": "markdown",
   "metadata": {},
   "source": [
    "- 文件夹中使用 Shift 键"
   ]
  },
  {
   "cell_type": "markdown",
   "metadata": {},
   "source": [
    "在某个文件夹（或盘）中，按住 Shift 键，鼠标右键单击。这种方法打开的终端，也是直接进入这个盘符或文件夹："
   ]
  },
  {
   "cell_type": "markdown",
   "metadata": {},
   "source": [
    "![](imgs/2021-11-11_21-50-18.png)"
   ]
  },
  {
   "cell_type": "markdown",
   "metadata": {},
   "source": [
    "另外很多开发软件，都有终端窗口，例如 git，vscode 等。"
   ]
  },
  {
   "cell_type": "markdown",
   "metadata": {},
   "source": [
    "打开终端窗口，我们才能进行各种命令操作。Windows 的所有命令可以在官网找到：https://docs.microsoft.com/zh-cn/windows-server/administration/windows-commands/windows-commands。"
   ]
  },
  {
   "cell_type": "markdown",
   "metadata": {},
   "source": [
    "## 终端窗口使用技巧"
   ]
  },
  {
   "cell_type": "markdown",
   "metadata": {},
   "source": [
    "- 终端窗口中可以选中内容 `Ctrl + C` 进行复制，然后直接单击右键粘贴。"
   ]
  },
  {
   "cell_type": "markdown",
   "metadata": {},
   "source": [
    "- 使用过的命令，可以用上下方向键轮换，再次使用。"
   ]
  },
  {
   "cell_type": "markdown",
   "metadata": {},
   "source": [
    "- tab 键可以自动补全。"
   ]
  },
  {
   "cell_type": "markdown",
   "metadata": {},
   "source": [
    "- 命令使用的符号是英文状态下的符号。"
   ]
  },
  {
   "cell_type": "markdown",
   "metadata": {},
   "source": [
    "- 命令参数中文件路径有空格，要用双引号包围：例如 `cd \"c:\\my file\"`。"
   ]
  },
  {
   "cell_type": "markdown",
   "metadata": {},
   "source": [
    "- 文件及目录名中不能包含字符：`\\` `/` `:` `*` `?` `\"` `<` `>` `|`。"
   ]
  },
  {
   "cell_type": "markdown",
   "metadata": {},
   "source": [
    "- `Ctrl + C` 中断命令执行。"
   ]
  },
  {
   "cell_type": "markdown",
   "metadata": {},
   "source": [
    "- 有时候需要管理员身份打开终端窗口，在找到或搜索到终端程序的时候，右键单击即可选择 `以管理员身份运行`。"
   ]
  },
  {
   "cell_type": "markdown",
   "metadata": {},
   "source": [
    "- 有很多命令，需要 `命令提示符` 终端窗口中才能执行（或者不通过终端窗口，直接在程序中去执行，例如 Python 自动创建文件或删除文件）。"
   ]
  },
  {
   "cell_type": "markdown",
   "metadata": {},
   "source": [
    "--- "
   ]
  },
  {
   "cell_type": "markdown",
   "metadata": {},
   "source": [
    "下面列出一些常用的命令："
   ]
  },
  {
   "cell_type": "markdown",
   "metadata": {},
   "source": [
    "**注意：**同样的操作，`Windows PoweShell` 和 `命令提示符` 终端窗口中执行的命令可能不一样。"
   ]
  },
  {
   "cell_type": "markdown",
   "metadata": {},
   "source": [
    "## cd 切换目录"
   ]
  },
  {
   "cell_type": "markdown",
   "metadata": {},
   "source": [
    "**示例：**"
   ]
  },
  {
   "cell_type": "markdown",
   "metadata": {},
   "source": [
    "-  进入父目录"
   ]
  },
  {
   "cell_type": "markdown",
   "metadata": {},
   "source": [
    "    cd ..  "
   ]
  },
  {
   "cell_type": "markdown",
   "metadata": {},
   "source": [
    "-  进入上次 d 盘所在的目录（或在直接输入 `d:`）"
   ]
  },
  {
   "cell_type": "markdown",
   "metadata": {},
   "source": [
    "    cd d:  "
   ]
  },
  {
   "cell_type": "markdown",
   "metadata": {},
   "source": [
    "-  进入 d 盘根目录"
   ]
  },
  {
   "cell_type": "markdown",
   "metadata": {},
   "source": [
    "    cd /d d:\\  "
   ]
  },
  {
   "cell_type": "markdown",
   "metadata": {},
   "source": [
    "-  显示上次 d 盘所在的目录"
   ]
  },
  {
   "cell_type": "markdown",
   "metadata": {},
   "source": [
    "    cd d:"
   ]
  },
  {
   "cell_type": "markdown",
   "metadata": {},
   "source": [
    "-  进入 d:\\src 目录"
   ]
  },
  {
   "cell_type": "markdown",
   "metadata": {},
   "source": [
    "    cd /d d:\\src"
   ]
  },
  {
   "cell_type": "markdown",
   "metadata": {},
   "source": [
    "-  进入当前目录下的 prj\\src\\view 文件夹"
   ]
  },
  {
   "cell_type": "markdown",
   "metadata": {},
   "source": [
    "    cd prj\\src\\view "
   ]
  },
  {
   "cell_type": "markdown",
   "metadata": {},
   "source": [
    "## dir  显示目录中的内容"
   ]
  },
  {
   "cell_type": "markdown",
   "metadata": {},
   "source": [
    "**示例：**"
   ]
  },
  {
   "cell_type": "markdown",
   "metadata": {},
   "source": [
    "-  显示当前目录中的子文件夹与文件"
   ]
  },
  {
   "cell_type": "markdown",
   "metadata": {},
   "source": [
    "    dir  "
   ]
  },
  {
   "cell_type": "markdown",
   "metadata": {},
   "source": [
    "-  只显示当前目录中的子文件夹与文件的文件名"
   ]
  },
  {
   "cell_type": "markdown",
   "metadata": {},
   "source": [
    "    dir /b "
   ]
  },
  {
   "cell_type": "markdown",
   "metadata": {},
   "source": [
    "-  分页显示当前目录中的子文件夹与文件"
   ]
  },
  {
   "cell_type": "markdown",
   "metadata": {},
   "source": [
    "    dir /p "
   ]
  },
  {
   "cell_type": "markdown",
   "metadata": {},
   "source": [
    "-  显示当前目录中的子文件夹"
   ]
  },
  {
   "cell_type": "markdown",
   "metadata": {},
   "source": [
    "    dir /ad "
   ]
  },
  {
   "cell_type": "markdown",
   "metadata": {},
   "source": [
    "-  显示当前目录中的文件"
   ]
  },
  {
   "cell_type": "markdown",
   "metadata": {},
   "source": [
    "    dir /a-d "
   ]
  },
  {
   "cell_type": "markdown",
   "metadata": {},
   "source": [
    "-  显示 c:\\test 目录中的内容"
   ]
  },
  {
   "cell_type": "markdown",
   "metadata": {},
   "source": [
    "    dir c:\\test  "
   ]
  },
  {
   "cell_type": "markdown",
   "metadata": {},
   "source": [
    "-  显示当前目录中 keys.txt 的信息"
   ]
  },
  {
   "cell_type": "markdown",
   "metadata": {},
   "source": [
    "    dir keys.txt "
   ]
  },
  {
   "cell_type": "markdown",
   "metadata": {},
   "source": [
    "-  递归显示当前目录中的内容"
   ]
  },
  {
   "cell_type": "markdown",
   "metadata": {},
   "source": [
    "    dir /S  "
   ]
  },
  {
   "cell_type": "markdown",
   "metadata": {},
   "source": [
    "-  显示当前目录下以 key 开头的文件和文件夹的信息"
   ]
  },
  {
   "cell_type": "markdown",
   "metadata": {},
   "source": [
    "    dir key* "
   ]
  },
  {
   "cell_type": "markdown",
   "metadata": {},
   "source": [
    "-  只显示当前目录中隐藏的文件和目录，并按照文件大小从小到大排序"
   ]
  },
  {
   "cell_type": "markdown",
   "metadata": {},
   "source": [
    "    dir /AH /OS "
   ]
  },
  {
   "cell_type": "markdown",
   "metadata": {},
   "source": [
    "## tree 显示目录结构"
   ]
  },
  {
   "cell_type": "markdown",
   "metadata": {},
   "source": [
    "**示例：**"
   ]
  },
  {
   "cell_type": "markdown",
   "metadata": {},
   "source": [
    "-  显示 d:\\myfiles 目录结构"
   ]
  },
  {
   "cell_type": "markdown",
   "metadata": {},
   "source": [
    "    tree d:\\myfiles "
   ]
  },
  {
   "cell_type": "markdown",
   "metadata": {},
   "source": [
    "## ren  文件或目录重命名"
   ]
  },
  {
   "cell_type": "markdown",
   "metadata": {},
   "source": [
    "**示例：**"
   ]
  },
  {
   "cell_type": "markdown",
   "metadata": {},
   "source": [
    "-  将当前目录下的 rec.txt 文件重命名为 rec.ini"
   ]
  },
  {
   "cell_type": "markdown",
   "metadata": {},
   "source": [
    "    ren rec.txt rec.ini "
   ]
  },
  {
   "cell_type": "markdown",
   "metadata": {},
   "source": [
    "-  将 c 盘下的 test 文件夹重命名为 test_01"
   ]
  },
  {
   "cell_type": "markdown",
   "metadata": {},
   "source": [
    "    ren c:\\test test_01 "
   ]
  },
  {
   "cell_type": "markdown",
   "metadata": {},
   "source": [
    "-  将当前目录下的 Logs.txt 文件重命名为 Logs-20150114_2135.txt 或 Logs-20150114_ 812.txt（注意：小时只有个位数时会多一个空格，可以使用字符串替换：将空格替换成 0）"
   ]
  },
  {
   "cell_type": "markdown",
   "metadata": {},
   "source": [
    "    ren Logs.txt Logs-%date:~0,4%%date:~5,2%%date:~8,2%_%time:~0,2%%time:~3,2%.txt "
   ]
  },
  {
   "cell_type": "markdown",
   "metadata": {},
   "source": [
    "## md  创建目录"
   ]
  },
  {
   "cell_type": "markdown",
   "metadata": {},
   "source": [
    "**示例：**"
   ]
  },
  {
   "cell_type": "markdown",
   "metadata": {},
   "source": [
    "-  在当前目录中创建名为 movie 和 music 的文件夹"
   ]
  },
  {
   "cell_type": "markdown",
   "metadata": {},
   "source": [
    "    md movie music "
   ]
  },
  {
   "cell_type": "markdown",
   "metadata": {},
   "source": [
    "-  创建 d:\\test\\movie 目录"
   ]
  },
  {
   "cell_type": "markdown",
   "metadata": {},
   "source": [
    "    md d:\\test\\movie "
   ]
  },
  {
   "cell_type": "markdown",
   "metadata": {},
   "source": [
    "## rd  删除目录"
   ]
  },
  {
   "cell_type": "markdown",
   "metadata": {},
   "source": [
    "**示例：**"
   ]
  },
  {
   "cell_type": "markdown",
   "metadata": {},
   "source": [
    "-  删除当前目录下的 movie 空文件夹"
   ]
  },
  {
   "cell_type": "markdown",
   "metadata": {},
   "source": [
    "    rd movie"
   ]
  },
  {
   "cell_type": "markdown",
   "metadata": {},
   "source": [
    "-  使用安静模式删除 d:\\test（除目录本身外，还将删除指定目录下的所有子目录和文件）"
   ]
  },
  {
   "cell_type": "markdown",
   "metadata": {},
   "source": [
    "    rd /s /q d:\\test "
   ]
  },
  {
   "cell_type": "markdown",
   "metadata": {},
   "source": [
    "## copy 拷贝文件"
   ]
  },
  {
   "cell_type": "markdown",
   "metadata": {},
   "source": [
    "**示例：**"
   ]
  },
  {
   "cell_type": "markdown",
   "metadata": {},
   "source": [
    "-  将当前目录下的 key.txt 拷贝到 c:\\doc 下（若 doc 中也存在一个 key.txt 文件，会询问是否覆盖）"
   ]
  },
  {
   "cell_type": "markdown",
   "metadata": {},
   "source": [
    "    copy key.txt c:\\doc "
   ]
  },
  {
   "cell_type": "markdown",
   "metadata": {},
   "source": [
    "-  将当前目录下 jobs 文件夹中文件（不递归子目录）拷贝到 c:\\doc 下（若 doc 中也存在相应的文件，会询问是否覆盖）"
   ]
  },
  {
   "cell_type": "markdown",
   "metadata": {},
   "source": [
    "    copy jobs c:\\doc "
   ]
  },
  {
   "cell_type": "markdown",
   "metadata": {},
   "source": [
    "-  将当前目录下的 key.txt 拷贝到 c:\\doc 下，并重命名为 key_bak.txt（若 doc 中也存在一个 key_bak.txt 文件，会询问是否覆盖）"
   ]
  },
  {
   "cell_type": "markdown",
   "metadata": {},
   "source": [
    "    copy key.txt c:\\doc\\key_bak.txt "
   ]
  },
  {
   "cell_type": "markdown",
   "metadata": {},
   "source": [
    "-  将当前目录下的 key.txt 拷贝到 c:\\doc 下（不询问，直接覆盖写）"
   ]
  },
  {
   "cell_type": "markdown",
   "metadata": {},
   "source": [
    "    copy /Y key.txt c:\\doc "
   ]
  },
  {
   "cell_type": "markdown",
   "metadata": {},
   "source": [
    "-  复制文件到自己，实际上是修改了文件日期"
   ]
  },
  {
   "cell_type": "markdown",
   "metadata": {},
   "source": [
    "    copy key.txt + "
   ]
  },
  {
   "cell_type": "markdown",
   "metadata": {},
   "source": [
    "-  将当前目录下的 key1.txt 与 key2.txt 的内容合并写入 key.txt 中（不询问，直接覆盖写）"
   ]
  },
  {
   "cell_type": "markdown",
   "metadata": {},
   "source": [
    "    copy /Y key1.txt + key2.txt key.txt "
   ]
  },
  {
   "cell_type": "markdown",
   "metadata": {},
   "source": [
    "-  将当前目录下的 art_2.7z.开头的所有文件（按照名称升序排序）依次合并生成 art_2.7z"
   ]
  },
  {
   "cell_type": "markdown",
   "metadata": {},
   "source": [
    "    copy /B art_2.7z.* art_2.7z   "
   ]
  },
  {
   "cell_type": "markdown",
   "metadata": {},
   "source": [
    "-  将当前目录下的 art_2.7z.001、art_2.7z.002 文件合并生成 art_2.7z"
   ]
  },
  {
   "cell_type": "markdown",
   "metadata": {},
   "source": [
    "    copy /B art_2.7z.001+art_2.7z.002 art_2.7z   "
   ]
  },
  {
   "cell_type": "markdown",
   "metadata": {},
   "source": [
    "## xcopy  更强大的复制命令"
   ]
  },
  {
   "cell_type": "markdown",
   "metadata": {},
   "source": [
    "**示例：**"
   ]
  },
  {
   "cell_type": "markdown",
   "metadata": {},
   "source": [
    "-  将 c:\\bat\\hai 中的所有内容拷贝到 d:\\hello 中。注意：需要在 hello 后加上 \\  表示 hello 为一个目录，否则 xcopy 会询问 hello 是 F，还是 D"
   ]
  },
  {
   "cell_type": "markdown",
   "metadata": {},
   "source": [
    "    xcopy c:\\bat\\hai d:\\hello\\ /y /h /e /f /c   "
   ]
  },
  {
   "cell_type": "markdown",
   "metadata": {},
   "source": [
    "-  将 c:\\bat\\hai 中的 2010 年 12 月 29 日后更改的文件拷贝到 d:\\hello 中"
   ]
  },
  {
   "cell_type": "markdown",
   "metadata": {},
   "source": [
    "    xcopy c:\\bat\\hai d:\\hello\\ /d:12-29-2010 "
   ]
  },
  {
   "cell_type": "markdown",
   "metadata": {},
   "source": [
    "## robocopy  更强大的复制命令"
   ]
  },
  {
   "cell_type": "markdown",
   "metadata": {},
   "source": [
    "**示例：**"
   ]
  },
  {
   "cell_type": "markdown",
   "metadata": {},
   "source": [
    "-  将当前目录下 Plugins 中所有内容（排除名为 Intermediate 和 Binaries 的文件夹）保留目录结构拷贝到当前目录下的 PluginsDest 中（PluginsDest 不存在会自动创建）"
   ]
  },
  {
   "cell_type": "markdown",
   "metadata": {},
   "source": [
    "    robocopy .\\Plugins .\\PluginsDest /MIR /xd Intermediate Binaries "
   ]
  },
  {
   "cell_type": "markdown",
   "metadata": {},
   "source": [
    "-  将 c:\\test 中所有内容（排除名为 UE4Editor-SGame-Win64-DebugGame.dll 和 pdb 后缀的文件）保留目录结构拷贝到 d:\\test2 中（d:\\test2 不存在会自动创建）"
   ]
  },
  {
   "cell_type": "markdown",
   "metadata": {},
   "source": [
    "    robocopy c:\\test d:\\test2 /MIR /xd Intermediate /xf UE4Editor-SGame-Win64-DebugGame.dll *.pdb"
   ]
  },
  {
   "cell_type": "markdown",
   "metadata": {},
   "source": [
    "## move 移动文件"
   ]
  },
  {
   "cell_type": "markdown",
   "metadata": {},
   "source": [
    "**示例：**"
   ]
  },
  {
   "cell_type": "markdown",
   "metadata": {},
   "source": [
    "-  将当前目录下的 png 图片移动到当前目录下 test 文件夹中 （若 test 中也存在同名的 png 图片，会询问是否覆盖）"
   ]
  },
  {
   "cell_type": "markdown",
   "metadata": {},
   "source": [
    "    move *.png test "
   ]
  },
  {
   "cell_type": "markdown",
   "metadata": {},
   "source": [
    "-  将当前目录下的 png 图片移动到当前目录下 test 文件夹中 （不询问，直接覆盖写）"
   ]
  },
  {
   "cell_type": "markdown",
   "metadata": {},
   "source": [
    "    move /Y *.png test "
   ]
  },
  {
   "cell_type": "markdown",
   "metadata": {},
   "source": [
    "-  将当前目录下的 1.png 移动到 d 盘 test 文件夹中，并重命名为 2.png （若 test 中也存在同名的 png 图片，会询问是否覆盖）"
   ]
  },
  {
   "cell_type": "markdown",
   "metadata": {},
   "source": [
    "    move 1.png d:\\test\\2.png "
   ]
  },
  {
   "cell_type": "markdown",
   "metadata": {},
   "source": [
    "-  若 d 盘中存在 new 文件夹，将当前目录下的 test 文件夹移动到 d 盘 new 文件夹中；若不存在，将当前目录下的 test 文件夹移动到 d 盘，并重命名为 new"
   ]
  },
  {
   "cell_type": "markdown",
   "metadata": {},
   "source": [
    "    move test d:\\new "
   ]
  },
  {
   "cell_type": "markdown",
   "metadata": {},
   "source": [
    "## del 删除文件   "
   ]
  },
  {
   "cell_type": "markdown",
   "metadata": {},
   "source": [
    "注意：目录及子目录都不会删除"
   ]
  },
  {
   "cell_type": "markdown",
   "metadata": {},
   "source": [
    "/ar、/ah、/as、/aa 分别表示删除只读、隐藏、系统、存档文件"
   ]
  },
  {
   "cell_type": "markdown",
   "metadata": {},
   "source": [
    "/a-r、/a-h、/a-s、/a-a 分别表示删除除只读、隐藏、系统、存档以外的文件"
   ]
  },
  {
   "cell_type": "markdown",
   "metadata": {},
   "source": [
    "**示例：**"
   ]
  },
  {
   "cell_type": "markdown",
   "metadata": {},
   "source": [
    "-  删除当前目录下的 test 文件夹中的所有非只读文件（子目录下的文件不删除；删除前会进行确认；等价于 del test\\*）"
   ]
  },
  {
   "cell_type": "markdown",
   "metadata": {},
   "source": [
    "    del test "
   ]
  },
  {
   "cell_type": "markdown",
   "metadata": {},
   "source": [
    "-  删除当前目录下的 test 文件夹中的所有文件（含只读文件；子目录下的文件不删除；删除前会进行确认；等价于 del /f test\\*）"
   ]
  },
  {
   "cell_type": "markdown",
   "metadata": {},
   "source": [
    "    del /f test "
   ]
  },
  {
   "cell_type": "markdown",
   "metadata": {},
   "source": [
    "-  删除当前目录下的 test 文件夹中所有文件及 d:\\test2 中所有 doc 文件（含只读文件；递归子目录下的文件；删除前不确认）"
   ]
  },
  {
   "cell_type": "markdown",
   "metadata": {},
   "source": [
    "    del /f /s /q test d:\\test2\\*.doc "
   ]
  },
  {
   "cell_type": "markdown",
   "metadata": {},
   "source": [
    "-  删除当前目录下所有只读文件"
   ]
  },
  {
   "cell_type": "markdown",
   "metadata": {},
   "source": [
    "    del /ar *.*"
   ]
  },
  {
   "cell_type": "markdown",
   "metadata": {},
   "source": [
    "-  删除当前目录下除系统文件以外的所有文件"
   ]
  },
  {
   "cell_type": "markdown",
   "metadata": {},
   "source": [
    "    del /a-s *.*"
   ]
  },
  {
   "cell_type": "markdown",
   "metadata": {},
   "source": [
    "## replace 替换文件"
   ]
  },
  {
   "cell_type": "markdown",
   "metadata": {},
   "source": [
    "即使这个文件在使用，仍然可以替换成功"
   ]
  },
  {
   "cell_type": "markdown",
   "metadata": {},
   "source": [
    "**示例：**"
   ]
  },
  {
   "cell_type": "markdown",
   "metadata": {},
   "source": [
    "-  使用 d 盘下的 love.mp3 强制替换 d 盘 mp3 目录中的 love.mp3 文件"
   ]
  },
  {
   "cell_type": "markdown",
   "metadata": {},
   "source": [
    "    replace d:\\love.mp3 d:\\mp3  "
   ]
  },
  {
   "cell_type": "markdown",
   "metadata": {},
   "source": [
    "## attrib  查看或修改文件或目录的属性 "
   ]
  },
  {
   "cell_type": "markdown",
   "metadata": {},
   "source": [
    "A：存档  R：只读  S：系统  H：隐藏"
   ]
  },
  {
   "cell_type": "markdown",
   "metadata": {},
   "source": [
    "**示例：**"
   ]
  },
  {
   "cell_type": "markdown",
   "metadata": {},
   "source": [
    "-  查看当前目录下 1.txt 的属性"
   ]
  },
  {
   "cell_type": "markdown",
   "metadata": {},
   "source": [
    "    attrib 1.txt  "
   ]
  },
  {
   "cell_type": "markdown",
   "metadata": {},
   "source": [
    "-  去掉 1.txt 的只读属性"
   ]
  },
  {
   "cell_type": "markdown",
   "metadata": {},
   "source": [
    "    attrib -R 1.txt "
   ]
  },
  {
   "cell_type": "markdown",
   "metadata": {},
   "source": [
    "-  隐藏 movie 文件夹"
   ]
  },
  {
   "cell_type": "markdown",
   "metadata": {},
   "source": [
    "    attrib +H movie "
   ]
  },
  {
   "cell_type": "markdown",
   "metadata": {},
   "source": [
    "## assoc 设置'文件扩展名'关联到的'文件类型'"
   ]
  },
  {
   "cell_type": "markdown",
   "metadata": {},
   "source": [
    "**示例：**"
   ]
  },
  {
   "cell_type": "markdown",
   "metadata": {},
   "source": [
    "-  显示所有'文件扩展名'关联"
   ]
  },
  {
   "cell_type": "markdown",
   "metadata": {},
   "source": [
    "    assoc"
   ]
  },
  {
   "cell_type": "markdown",
   "metadata": {},
   "source": [
    "-  显示.txt 代表的'文件类型'，结果显示.txt=txtfile"
   ]
  },
  {
   "cell_type": "markdown",
   "metadata": {},
   "source": [
    "    assoc .txt"
   ]
  },
  {
   "cell_type": "markdown",
   "metadata": {},
   "source": [
    "-  显示.doc 代表的'文件类型'，结果显示.doc=Word.Document.8"
   ]
  },
  {
   "cell_type": "markdown",
   "metadata": {},
   "source": [
    "    assoc .doc"
   ]
  },
  {
   "cell_type": "markdown",
   "metadata": {},
   "source": [
    "-  显示.exe 代表的'文件类型'，结果显示.exe=exefile"
   ]
  },
  {
   "cell_type": "markdown",
   "metadata": {},
   "source": [
    "    assoc .exe"
   ]
  },
  {
   "cell_type": "markdown",
   "metadata": {},
   "source": [
    "-  恢复.txt 的正确关联"
   ]
  },
  {
   "cell_type": "markdown",
   "metadata": {},
   "source": [
    "    assoc .txt=txtfile "
   ]
  },
  {
   "cell_type": "markdown",
   "metadata": {},
   "source": [
    "## ftype 设置'文件类型'关联到的'执行程序和参数'"
   ]
  },
  {
   "cell_type": "markdown",
   "metadata": {},
   "source": [
    "**示例：**"
   ]
  },
  {
   "cell_type": "markdown",
   "metadata": {},
   "source": [
    "-  显示所有'文件类型'关联"
   ]
  },
  {
   "cell_type": "markdown",
   "metadata": {},
   "source": [
    "    ftype"
   ]
  },
  {
   "cell_type": "markdown",
   "metadata": {},
   "source": [
    "-  显示 exefile 类型关联的命令行，结果显示 exefile=\"%1\" %*"
   ]
  },
  {
   "cell_type": "markdown",
   "metadata": {},
   "source": [
    "    ftype exefile"
   ]
  },
  {
   "cell_type": "markdown",
   "metadata": {},
   "source": [
    "-  设置 txtfile 类型关联的命令行为：C:\\Windows\\notepad.exe %1"
   ]
  },
  {
   "cell_type": "markdown",
   "metadata": {},
   "source": [
    "    ftype txtfile=C:\\Windows\\notepad.exe %1"
   ]
  },
  {
   "cell_type": "markdown",
   "metadata": {},
   "source": [
    "当双击一个.txt 文件时，windows 并不是根据.txt 直接判断用 notepad.exe 打开\n",
    "而是先判断.txt 属于 txtfile'文件类型'；再调用 txtfile 关联的命令行：txtfile=%SystemRoot%\\system32\\NOTEPAD.EXE %1"
   ]
  },
  {
   "cell_type": "markdown",
   "metadata": {},
   "source": [
    "## forfiles 递归目录执行命令"
   ]
  },
  {
   "cell_type": "markdown",
   "metadata": {},
   "source": [
    "**示例：**"
   ]
  },
  {
   "cell_type": "markdown",
   "metadata": {},
   "source": [
    "-  在当前目录下查找含有.svn 的文件或目录（递归子目录），并对该目录执行指定版本号 svn 更新"
   ]
  },
  {
   "cell_type": "markdown",
   "metadata": {},
   "source": [
    "    forfiles /p . /m .svn /s /c \"cmd /c svn up -r12005\""
   ]
  },
  {
   "cell_type": "markdown",
   "metadata": {},
   "source": [
    "-  在 c:\\myfiles 目录下查找含有.svn 的文件或目录（递归子目录），并对该目录执行指定版本号 svn 更新"
   ]
  },
  {
   "cell_type": "markdown",
   "metadata": {},
   "source": [
    "    forfiles /p c:\\myfiles /m .svn /s /c \"cmd /c svn up -r12005\""
   ]
  },
  {
   "cell_type": "markdown",
   "metadata": {},
   "source": [
    "## type 显示文本文件内容"
   ]
  },
  {
   "cell_type": "markdown",
   "metadata": {},
   "source": [
    "**示例：**"
   ]
  },
  {
   "cell_type": "markdown",
   "metadata": {},
   "source": [
    "-  显示 c 盘中 11.txt 的文本内容"
   ]
  },
  {
   "cell_type": "markdown",
   "metadata": {},
   "source": [
    "    type c:\\11.txt  "
   ]
  },
  {
   "cell_type": "markdown",
   "metadata": {},
   "source": [
    "-  显示当前目录下 conf.ini 的文本内容"
   ]
  },
  {
   "cell_type": "markdown",
   "metadata": {},
   "source": [
    "    type conf.ini "
   ]
  },
  {
   "cell_type": "markdown",
   "metadata": {},
   "source": [
    "-  分页显示 c 盘中 11.txt 的文本内容"
   ]
  },
  {
   "cell_type": "markdown",
   "metadata": {},
   "source": [
    "    type c:\\11.txt | more "
   ]
  },
  {
   "cell_type": "markdown",
   "metadata": {},
   "source": [
    "## more 逐屏的显示文本文件内容"
   ]
  },
  {
   "cell_type": "markdown",
   "metadata": {},
   "source": [
    "**示例：**"
   ]
  },
  {
   "cell_type": "markdown",
   "metadata": {},
   "source": [
    "-   逐屏的显示当前目录下 conf.ini 的文本内容，`空格`：下一屏, `q`：退出"
   ]
  },
  {
   "cell_type": "markdown",
   "metadata": {},
   "source": [
    "    more conf.ini "
   ]
  },
  {
   "cell_type": "markdown",
   "metadata": {},
   "source": [
    "## 命令中常用的符号"
   ]
  },
  {
   "cell_type": "markdown",
   "metadata": {},
   "source": [
    "`&`  顺序执行多条命令，而不管命令是否执行成功"
   ]
  },
  {
   "cell_type": "markdown",
   "metadata": {},
   "source": [
    "-  先将当前工作目录切换到 d:\\src 下，然后执行 work.exe /o c:\\result.txt 命令"
   ]
  },
  {
   "cell_type": "markdown",
   "metadata": {},
   "source": [
    "    cd /d d:\\src&work.exe /o c:\\result.txt "
   ]
  },
  {
   "cell_type": "markdown",
   "metadata": {},
   "source": [
    "`&&`  顺序执行多条命令，当碰到执行出错的命令后将不执行后面的命令"
   ]
  },
  {
   "cell_type": "markdown",
   "metadata": {},
   "source": [
    "-  如果找到了\"ok\"字样，就显示\"成功\"，找不到就不显示"
   ]
  },
  {
   "cell_type": "markdown",
   "metadata": {},
   "source": [
    "    find \"ok\" c:\\test.txt && echo 成功"
   ]
  },
  {
   "cell_type": "markdown",
   "metadata": {},
   "source": [
    "`||`   顺序执行多条命令，当碰到执行正确的命令后将不执行后面的命令"
   ]
  },
  {
   "cell_type": "markdown",
   "metadata": {},
   "source": [
    "-  如果找不到\"ok\"字样，就显示\"不成功\"，找到了就不显示"
   ]
  },
  {
   "cell_type": "markdown",
   "metadata": {},
   "source": [
    "    find \"ok\" c:\\test.txt || echo 不成功  "
   ]
  },
  {
   "cell_type": "markdown",
   "metadata": {},
   "source": [
    "`|`    管道命令"
   ]
  },
  {
   "cell_type": "markdown",
   "metadata": {},
   "source": [
    "-  先执行 dir 命令，然后对输出结果（stdout）执行 find 命令（输出当前文件夹及所有子文件夹里的 .exe 文件的个数）"
   ]
  },
  {
   "cell_type": "markdown",
   "metadata": {},
   "source": [
    "    dir *.* /s/a | find /c \".exe\"  "
   ]
  },
  {
   "cell_type": "markdown",
   "metadata": {},
   "source": [
    "-  先执行 dir 命令，然后对输出结果（stdout）和错误信息（stderr）执行 find 命令（输出当前文件夹及所有子文件夹里的.exe 文件的个数）"
   ]
  },
  {
   "cell_type": "markdown",
   "metadata": {},
   "source": [
    "    dir *.* /s/a 2>&1 | find /c \".exe\"  "
   ]
  },
  {
   "cell_type": "markdown",
   "metadata": {},
   "source": [
    "`>`  将当前命令输出以覆盖的方式重定向"
   ]
  },
  {
   "cell_type": "markdown",
   "metadata": {},
   "source": [
    "-  将 tasklist 的输出结果（stdout）以覆盖的方式重定向到 p1.txt 文件中（注：tasklist 的输出结果就不会打印到屏幕上了）"
   ]
  },
  {
   "cell_type": "markdown",
   "metadata": {},
   "source": [
    "    tasklist > p1.txt  "
   ]
  },
  {
   "cell_type": "markdown",
   "metadata": {},
   "source": [
    "-  等同于：tasklist > p1.txt"
   ]
  },
  {
   "cell_type": "markdown",
   "metadata": {},
   "source": [
    "    tasklist 1> p1.txt "
   ]
  },
  {
   "cell_type": "markdown",
   "metadata": {},
   "source": [
    "-  输出结果（stdout）打印在屏幕上，错误信息（stderr）以覆盖的方式重定向到 p1.txt 中（注：bin 目录不存在时，会输出错误信息）"
   ]
  },
  {
   "cell_type": "markdown",
   "metadata": {},
   "source": [
    "    dir bin 2> p1.txt "
   ]
  },
  {
   "cell_type": "markdown",
   "metadata": {},
   "source": [
    "-  将错误信息（stderr）重定向到输出结果（stdout），然后将输出结果（stdout）以覆盖的方式重定向到 p1.txt 中（注：bin 目录不存在时，会输出错误信息）"
   ]
  },
  {
   "cell_type": "markdown",
   "metadata": {},
   "source": [
    "    dir bin > p1.txt 2>&1 "
   ]
  },
  {
   "cell_type": "markdown",
   "metadata": {},
   "source": [
    "-  将输出结果（stdout）重定向到错误信息（stderr），然后将错误信息（stderr）以覆盖的方式重定向到 p1.txt 中（注：bin 目录不存在时，会输出错误信息） 注：与上条命令结果一致"
   ]
  },
  {
   "cell_type": "markdown",
   "metadata": {},
   "source": [
    "    dir bin 2> p1.txt 1>&2 "
   ]
  },
  {
   "cell_type": "markdown",
   "metadata": {},
   "source": [
    "-  屏幕上不打印 tasklist 的输出结果（stdout），错误信息（stderr）仍会打印"
   ]
  },
  {
   "cell_type": "markdown",
   "metadata": {},
   "source": [
    "    tasklist >nul  "
   ]
  },
  {
   "cell_type": "markdown",
   "metadata": {},
   "source": [
    "-  屏幕上不打印命令的错误信息（stderr），输出结果（stdout）仍会打印（注：bin 目录不存在时，会输出错误信息）"
   ]
  },
  {
   "cell_type": "markdown",
   "metadata": {},
   "source": [
    "    dir bin 2>nul  "
   ]
  },
  {
   "cell_type": "markdown",
   "metadata": {},
   "source": [
    "-   将命令的错误信息（stderr）重定向到输出结果（stdout），然后不打印输出结果（stdout）【屏幕上错误信息（stderr）和输出结果（stdout）都不打印】（注：bin 目录不存在时，会输出错误信息）"
   ]
  },
  {
   "cell_type": "markdown",
   "metadata": {},
   "source": [
    "    dir bin >nul 2>&1  "
   ]
  },
  {
   "cell_type": "markdown",
   "metadata": {},
   "source": [
    "-   将命令的输出结果（stdout）重定向到错误信息（stderr），然后不打印错误信息（stderr）【屏幕上错误信息（stderr）和输出结果（stdout）都不打印】（注：bin 目录不存在时，会输出错误信息）"
   ]
  },
  {
   "cell_type": "markdown",
   "metadata": {},
   "source": [
    "    dir bin 2>nul 1>&2  "
   ]
  },
  {
   "cell_type": "markdown",
   "metadata": {},
   "source": [
    "`>>`  将当前命令输出以追加的方式重定向"
   ]
  },
  {
   "cell_type": "markdown",
   "metadata": {},
   "source": [
    "-  将 tasklist 的输出结果（stdout）以追加的方式重定向到 p2.txt 文件中（注：tasklist 的输出结果就不会打印到屏幕上了）"
   ]
  },
  {
   "cell_type": "markdown",
   "metadata": {},
   "source": [
    "    tasklist >> p2.txt  "
   ]
  },
  {
   "cell_type": "markdown",
   "metadata": {},
   "source": [
    "-  等同于：tasklist >> p2.txt"
   ]
  },
  {
   "cell_type": "markdown",
   "metadata": {},
   "source": [
    "    tasklist 1>> p2.txt "
   ]
  },
  {
   "cell_type": "markdown",
   "metadata": {},
   "source": [
    "-  输出结果（stdout）打印在屏幕上，错误信息（stderr）以追加的方式重定向到 p2.txt 中（注：bin 目录不存在时，会输出错误信息）"
   ]
  },
  {
   "cell_type": "markdown",
   "metadata": {},
   "source": [
    "    dir bin 2>> p2.txt "
   ]
  },
  {
   "cell_type": "markdown",
   "metadata": {},
   "source": [
    "-  将错误信息（stderr）重定向到输出结果（stdout），然后将输出结果（stdout）以追加的方式重定向到 p2.txt 中（注：bin 目录不存在时，会输出错误信息）"
   ]
  },
  {
   "cell_type": "markdown",
   "metadata": {},
   "source": [
    "    dir bin >> p2.txt 2>&1 "
   ]
  },
  {
   "cell_type": "markdown",
   "metadata": {},
   "source": [
    "-  将输出结果（stdout）重定向到错误信息（stderr），然后将错误信息（stderr）以追加的方式重定向到 p2.txt 中（注：bin 目录不存在时，会输出错误信息） 注：与上条命令结果一致"
   ]
  },
  {
   "cell_type": "markdown",
   "metadata": {},
   "source": [
    "    dir bin 2>> p2.txt 1>&2 "
   ]
  },
  {
   "cell_type": "markdown",
   "metadata": {},
   "source": [
    "`<`   从文件中获得输入信息，而不是从屏幕上，一般用于 date time label 等需要等待输入的命令"
   ]
  },
  {
   "cell_type": "markdown",
   "metadata": {},
   "source": [
    "-  temp.txt 中的内容为 2005-05-01"
   ]
  },
  {
   "cell_type": "markdown",
   "metadata": {},
   "source": [
    "    date <temp.txt "
   ]
  },
  {
   "cell_type": "markdown",
   "metadata": {},
   "source": [
    "`@`   命令修饰符  在执行命令前，不打印出该命令的内容"
   ]
  },
  {
   "cell_type": "markdown",
   "metadata": {},
   "source": [
    "-  执行该命令时，不打印出命令的内容：`cd /d d:/me`"
   ]
  },
  {
   "cell_type": "markdown",
   "metadata": {},
   "source": [
    "    @cd /d d:\\me  "
   ]
  },
  {
   "cell_type": "markdown",
   "metadata": {},
   "source": [
    "`,`    在某些特殊的情况下可以用来代替空格使用"
   ]
  },
  {
   "cell_type": "markdown",
   "metadata": {},
   "source": [
    "-  相当于：`dir c:\\`"
   ]
  },
  {
   "cell_type": "markdown",
   "metadata": {},
   "source": [
    "    dir,c:\\  "
   ]
  },
  {
   "cell_type": "markdown",
   "metadata": {},
   "source": [
    "`;`   当命令相同的时候,可以将不同的目标用;隔离开来但执行效果不变。如执行过程中发生错误则只返回错误报告但程序还是会继续执行"
   ]
  },
  {
   "cell_type": "markdown",
   "metadata": {},
   "source": [
    "-  相当于顺序执行：`dir c:\\`    `dir d:\\`     `dir e:\\`"
   ]
  },
  {
   "cell_type": "markdown",
   "metadata": {},
   "source": [
    "    dir c:\\;d:\\;e:\\  "
   ]
  },
  {
   "cell_type": "markdown",
   "metadata": {},
   "source": [
    "## cls  清除屏幕"
   ]
  },
  {
   "cell_type": "markdown",
   "metadata": {},
   "source": [
    "## ver  显示当前 windows 系统的版本号"
   ]
  },
  {
   "cell_type": "markdown",
   "metadata": {},
   "source": [
    "## winver  弹框显示当前 windows 系统信息"
   ]
  },
  {
   "cell_type": "markdown",
   "metadata": {},
   "source": [
    "## whoami  显示当前用户的名称"
   ]
  },
  {
   "cell_type": "markdown",
   "metadata": {},
   "source": [
    "## hostname  显示当前机器名"
   ]
  },
  {
   "cell_type": "markdown",
   "metadata": {},
   "source": [
    "## vol  显示当前分区的卷标"
   ]
  },
  {
   "cell_type": "markdown",
   "metadata": {},
   "source": [
    "## label  显示当前分区的卷标，同时提示输入新卷标"
   ]
  },
  {
   "cell_type": "markdown",
   "metadata": {},
   "source": [
    "    label c:system  设置 c 盘的卷标为 system"
   ]
  },
  {
   "cell_type": "markdown",
   "metadata": {},
   "source": [
    "## time  显示或设置当前时间"
   ]
  },
  {
   "cell_type": "markdown",
   "metadata": {},
   "source": [
    "**示例：**"
   ]
  },
  {
   "cell_type": "markdown",
   "metadata": {},
   "source": [
    "-  显示当前时间"
   ]
  },
  {
   "cell_type": "markdown",
   "metadata": {},
   "source": [
    "    time /t "
   ]
  },
  {
   "cell_type": "markdown",
   "metadata": {},
   "source": [
    "-  设置新的当前时间（格式：hh:mm:ss），直接回车则表示放弃设置"
   ]
  },
  {
   "cell_type": "markdown",
   "metadata": {},
   "source": [
    "    time  "
   ]
  },
  {
   "cell_type": "markdown",
   "metadata": {},
   "source": [
    "## date  显示或设置当前日期"
   ]
  },
  {
   "cell_type": "markdown",
   "metadata": {},
   "source": [
    "**示例：**"
   ]
  },
  {
   "cell_type": "markdown",
   "metadata": {},
   "source": [
    "-  显示当前日期"
   ]
  },
  {
   "cell_type": "markdown",
   "metadata": {},
   "source": [
    "    date /t "
   ]
  },
  {
   "cell_type": "markdown",
   "metadata": {},
   "source": [
    "-  设置新的当前日期（格式：YYYY/MM/DD），直接回车则表示放弃设置"
   ]
  },
  {
   "cell_type": "markdown",
   "metadata": {},
   "source": [
    "    date  "
   ]
  },
  {
   "cell_type": "markdown",
   "metadata": {},
   "source": [
    "## print"
   ]
  },
  {
   "cell_type": "markdown",
   "metadata": {},
   "source": [
    "`print 1.txt` 使用设置好的打印机来打印 1.txt 文本文件"
   ]
  },
  {
   "cell_type": "markdown",
   "metadata": {},
   "source": [
    "## timeout"
   ]
  },
  {
   "cell_type": "markdown",
   "metadata": {},
   "source": [
    "`timeout 5` 延迟 5s"
   ]
  },
  {
   "cell_type": "markdown",
   "metadata": {},
   "source": [
    "## call"
   ]
  },
  {
   "cell_type": "markdown",
   "metadata": {},
   "source": [
    "`call ff.bat`  调用执行 ff.bat 脚本（ff.bat 脚本执行完原脚本才会往下执行）"
   ]
  },
  {
   "cell_type": "markdown",
   "metadata": {},
   "source": [
    "## start  运行某程序或命令"
   ]
  },
  {
   "cell_type": "markdown",
   "metadata": {},
   "source": [
    "**示例：**"
   ]
  },
  {
   "cell_type": "markdown",
   "metadata": {},
   "source": [
    "-  最大化的方式启动记事本"
   ]
  },
  {
   "cell_type": "markdown",
   "metadata": {},
   "source": [
    "    start /max notepad.exe "
   ]
  },
  {
   "cell_type": "markdown",
   "metadata": {},
   "source": [
    "-  最小化的方式启动计算器"
   ]
  },
  {
   "cell_type": "markdown",
   "metadata": {},
   "source": [
    "    start /min calc.exe  "
   ]
  },
  {
   "cell_type": "markdown",
   "metadata": {},
   "source": [
    "-  最小化的方式启动 Proxifier 代理工具"
   ]
  },
  {
   "cell_type": "markdown",
   "metadata": {},
   "source": [
    "    start /min \"\" d:\\Proxifier.exe  "
   ]
  },
  {
   "cell_type": "markdown",
   "metadata": {},
   "source": [
    "-  启动一个 cmd 实例窗口，并运行 tasklist"
   ]
  },
  {
   "cell_type": "markdown",
   "metadata": {},
   "source": [
    "    start  tasklist "
   ]
  },
  {
   "cell_type": "markdown",
   "metadata": {},
   "source": [
    "-  调用资源管理器打开 f 盘"
   ]
  },
  {
   "cell_type": "markdown",
   "metadata": {},
   "source": [
    "    start explorer f:\\ "
   ]
  },
  {
   "cell_type": "markdown",
   "metadata": {},
   "source": [
    "-  启动 ie 并打开 www.qq.com 网址"
   ]
  },
  {
   "cell_type": "markdown",
   "metadata": {},
   "source": [
    "    strat iexplore \"www.qq.com\" "
   ]
  },
  {
   "cell_type": "markdown",
   "metadata": {},
   "source": [
    "-  启动开始执行 ff.bat（启动 ff.bat 脚本后，原脚本继续执行，不会等 ff.bat 脚本执行完）"
   ]
  },
  {
   "cell_type": "markdown",
   "metadata": {},
   "source": [
    "    start ff.bat "
   ]
  },
  {
   "cell_type": "markdown",
   "metadata": {},
   "source": [
    "## exit  退出当前 cmd 窗口实例"
   ]
  },
  {
   "cell_type": "markdown",
   "metadata": {},
   "source": [
    "**示例：**"
   ]
  },
  {
   "cell_type": "markdown",
   "metadata": {},
   "source": [
    "-  退出当前 cmd 窗口实例，并将过程退出代码设置为 0（0 表示成功，非 0 表示失败）"
   ]
  },
  {
   "cell_type": "markdown",
   "metadata": {},
   "source": [
    "    exit 0 "
   ]
  },
  {
   "cell_type": "markdown",
   "metadata": {},
   "source": [
    "-  退出当前 bat 脚本，并将 ERRORLEVEL 系统变量设置为 1"
   ]
  },
  {
   "cell_type": "markdown",
   "metadata": {},
   "source": [
    "    exit /B 1 "
   ]
  },
  {
   "cell_type": "markdown",
   "metadata": {},
   "source": [
    "## pause  暂停批处理程序，并显示出：请按任意键继续...."
   ]
  },
  {
   "cell_type": "markdown",
   "metadata": {},
   "source": [
    "## systeminfo  查看当前计算机的综合信息"
   ]
  },
  {
   "cell_type": "markdown",
   "metadata": {},
   "source": [
    "## wmic 查看硬件的信息，查看进程信息"
   ]
  },
  {
   "cell_type": "markdown",
   "metadata": {},
   "source": [
    "**示例：**"
   ]
  },
  {
   "cell_type": "markdown",
   "metadata": {},
   "source": [
    "-  查看计算机上各个盘的相关信息"
   ]
  },
  {
   "cell_type": "markdown",
   "metadata": {},
   "source": [
    "    wmic logicaldisk  "
   ]
  },
  {
   "cell_type": "markdown",
   "metadata": {},
   "source": [
    "-  获取 C 盘的剩余空间大小与总大小（单位：Byte）"
   ]
  },
  {
   "cell_type": "markdown",
   "metadata": {},
   "source": [
    "    wmic LogicalDisk where \"Caption='C:'\" get FreeSpace,Size /value  "
   ]
  },
  {
   "cell_type": "markdown",
   "metadata": {},
   "source": [
    "-  获取当前 os 的 Caption、安装日期以及系统架构信息"
   ]
  },
  {
   "cell_type": "markdown",
   "metadata": {},
   "source": [
    "    wmic os get Caption,InstallDate,OSArchitecture /value "
   ]
  },
  {
   "cell_type": "markdown",
   "metadata": {},
   "source": [
    "-  查看名为\"buyticket.exe\"所有进程命令行，exe 全路径，PID 及线程数"
   ]
  },
  {
   "cell_type": "markdown",
   "metadata": {},
   "source": [
    "    wmic process where Caption=\"buyticket.exe\" get commandline,ExecutablePath,ProcessId,ThreadCount /value"
   ]
  },
  {
   "cell_type": "markdown",
   "metadata": {},
   "source": [
    "-  查看名为\"buyticket.exe\"所有进程的 exe 全路径及当前打开的句柄数"
   ]
  },
  {
   "cell_type": "markdown",
   "metadata": {},
   "source": [
    "    wmic process where Caption=\"buyticket.exe\" get ExecutablePath,HandleCount /value  "
   ]
  },
  {
   "cell_type": "markdown",
   "metadata": {},
   "source": [
    "-  查看名为\"buyticket.exe\"所有进程的 exe 全路径、当前虚拟地址空间占用及物理内存工作集"
   ]
  },
  {
   "cell_type": "markdown",
   "metadata": {},
   "source": [
    "    wmic process where Caption=\"buyticket.exe\" get ExecutablePath,VirtualSize,WorkingSetSize /value  "
   ]
  },
  {
   "cell_type": "markdown",
   "metadata": {},
   "source": [
    "## logoff  注销当前用户"
   ]
  },
  {
   "cell_type": "markdown",
   "metadata": {},
   "source": [
    "## shutdown  关闭、重启、注销、休眠计算机"
   ]
  },
  {
   "cell_type": "markdown",
   "metadata": {},
   "source": [
    "**示例：**"
   ]
  },
  {
   "cell_type": "markdown",
   "metadata": {},
   "source": [
    "-  关闭计算机"
   ]
  },
  {
   "cell_type": "markdown",
   "metadata": {},
   "source": [
    "    shutdown /s "
   ]
  },
  {
   "cell_type": "markdown",
   "metadata": {},
   "source": [
    "-  一小时后，关闭本地计算机"
   ]
  },
  {
   "cell_type": "markdown",
   "metadata": {},
   "source": [
    "    shutdown /s /t 3600 "
   ]
  },
  {
   "cell_type": "markdown",
   "metadata": {},
   "source": [
    "-  终止系统关闭"
   ]
  },
  {
   "cell_type": "markdown",
   "metadata": {},
   "source": [
    "    shutdown /a "
   ]
  },
  {
   "cell_type": "markdown",
   "metadata": {},
   "source": [
    "-  关闭并重启本地计算机"
   ]
  },
  {
   "cell_type": "markdown",
   "metadata": {},
   "source": [
    "    shutdown /r "
   ]
  },
  {
   "cell_type": "markdown",
   "metadata": {},
   "source": [
    "-  关闭并重启 ip 为 192.168.1.166 的计算机"
   ]
  },
  {
   "cell_type": "markdown",
   "metadata": {},
   "source": [
    "    shutdown /m 192.168.1.166 /r "
   ]
  },
  {
   "cell_type": "markdown",
   "metadata": {},
   "source": [
    "-  关闭并重启计算机，重启后重新启动所有注册的应用程序"
   ]
  },
  {
   "cell_type": "markdown",
   "metadata": {},
   "source": [
    "    shutdown /g "
   ]
  },
  {
   "cell_type": "markdown",
   "metadata": {},
   "source": [
    "-  注销本地计算机"
   ]
  },
  {
   "cell_type": "markdown",
   "metadata": {},
   "source": [
    "    shutdown /l "
   ]
  },
  {
   "cell_type": "markdown",
   "metadata": {},
   "source": [
    "-  休眠本地计算机（强制正在运行的应用程序关闭，不前台警告用户）"
   ]
  },
  {
   "cell_type": "markdown",
   "metadata": {},
   "source": [
    "    shutdown /h /f"
   ]
  },
  {
   "cell_type": "markdown",
   "metadata": {},
   "source": [
    "**远程关机权限的获取：**"
   ]
  },
  {
   "cell_type": "markdown",
   "metadata": {},
   "source": [
    "1）修改远程 pc 的“本地安全策略”，为指定的用户开放权限"
   ]
  },
  {
   "cell_type": "markdown",
   "metadata": {},
   "source": [
    "在 WindowsXP 默认的安全策略中，只有 Administrators 组的用户才有权从远端关闭计算机，如果要给 xxxx 用户远程关机的权限。"
   ]
  },
  {
   "cell_type": "markdown",
   "metadata": {},
   "source": [
    "可利用 WindowsXP 的“组策略”或“管理工具”中的“本地安全策略”来实现。"
   ]
  },
  {
   "cell_type": "markdown",
   "metadata": {},
   "source": [
    "1. 命令行运行 gpedit.msc 打开“组策略编辑器“；"
   ]
  },
  {
   "cell_type": "markdown",
   "metadata": {},
   "source": [
    "2. 导航到“计算机配置/Windows 设置/安全设置/本地策略/用户权利指派”；"
   ]
  },
  {
   "cell_type": "markdown",
   "metadata": {},
   "source": [
    "3. 修改“从远端系统强制关机”，添加 xxxx 用户即可。"
   ]
  },
  {
   "cell_type": "markdown",
   "metadata": {},
   "source": [
    "2）获得远程 IPC 管理权限"
   ]
  },
  {
   "cell_type": "markdown",
   "metadata": {},
   "source": [
    "如果配置第一步后还出现“拒绝访问。”，则需要在运行 shutdown 命令前先运行如下命令"
   ]
  },
  {
   "cell_type": "markdown",
   "metadata": {},
   "source": [
    "    net use \\\\[ip 地址或计算机名]\\ipc$ password /user:xxxx"
   ]
  },
  {
   "cell_type": "markdown",
   "metadata": {},
   "source": [
    "其中 password 为帐号 xxxx 的登录密码。"
   ]
  },
  {
   "cell_type": "markdown",
   "metadata": {},
   "source": [
    "## regsvr32  注册或反注册 com 组件"
   ]
  },
  {
   "cell_type": "markdown",
   "metadata": {},
   "source": [
    "**示例：**"
   ]
  },
  {
   "cell_type": "markdown",
   "metadata": {},
   "source": [
    "-  以无声的方式注册 clock.ocx 组件"
   ]
  },
  {
   "cell_type": "markdown",
   "metadata": {},
   "source": [
    "    regsvr32 /s clock.ocx "
   ]
  },
  {
   "cell_type": "markdown",
   "metadata": {},
   "source": [
    "-  卸载 myCommon.dll 组件"
   ]
  },
  {
   "cell_type": "markdown",
   "metadata": {},
   "source": [
    "    regsvr32 /u myCommon.dll "
   ]
  },
  {
   "cell_type": "markdown",
   "metadata": {},
   "source": [
    "## format  格式化磁盘"
   ]
  },
  {
   "cell_type": "markdown",
   "metadata": {},
   "source": [
    "**示例：**"
   ]
  },
  {
   "cell_type": "markdown",
   "metadata": {},
   "source": [
    "-  以 ntfs 类型格式化 J 盘 "
   ]
  },
  {
   "cell_type": "markdown",
   "metadata": {},
   "source": [
    "类型有:FAT、FAT32、exFAT、NTFS 或 UDF"
   ]
  },
  {
   "cell_type": "markdown",
   "metadata": {},
   "source": [
    "    format J: /FS:ntfs  "
   ]
  },
  {
   "cell_type": "markdown",
   "metadata": {},
   "source": [
    "-   以 fat32 类型快速格式化 J 盘"
   ]
  },
  {
   "cell_type": "markdown",
   "metadata": {},
   "source": [
    "    format J: /FS:fat32 /Q "
   ]
  },
  {
   "cell_type": "markdown",
   "metadata": {},
   "source": [
    "## chkdsk"
   ]
  },
  {
   "cell_type": "markdown",
   "metadata": {},
   "source": [
    "`chkdsk /f D:`   检查磁盘 D 并显示状态报告；加参数 `/f` 表示同时会修复磁盘上的错误"
   ]
  },
  {
   "cell_type": "markdown",
   "metadata": {},
   "source": [
    "## subst   磁盘映射"
   ]
  },
  {
   "cell_type": "markdown",
   "metadata": {},
   "source": [
    "磁盘映射信息都保存在注册表以下键值中：HKEY_CURRENT_USER\\Network"
   ]
  },
  {
   "cell_type": "markdown",
   "metadata": {},
   "source": [
    "**示例：**"
   ]
  },
  {
   "cell_type": "markdown",
   "metadata": {},
   "source": [
    "-  显示目前所有的映射"
   ]
  },
  {
   "cell_type": "markdown",
   "metadata": {},
   "source": [
    "    subst "
   ]
  },
  {
   "cell_type": "markdown",
   "metadata": {},
   "source": [
    "-  将 \\\\com\\software 共享映射为本地 z 盘"
   ]
  },
  {
   "cell_type": "markdown",
   "metadata": {},
   "source": [
    "    subst z: \\\\com\\software "
   ]
  },
  {
   "cell_type": "markdown",
   "metadata": {},
   "source": [
    "-  将 e:\\src 映射为本地 y 盘"
   ]
  },
  {
   "cell_type": "markdown",
   "metadata": {},
   "source": [
    "    subst y: e:\\src "
   ]
  },
  {
   "cell_type": "markdown",
   "metadata": {},
   "source": [
    "-  删除 z 盘映射"
   ]
  },
  {
   "cell_type": "markdown",
   "metadata": {},
   "source": [
    "    subst z: /d "
   ]
  },
  {
   "cell_type": "markdown",
   "metadata": {},
   "source": [
    "## cmdkey  凭据 Credential（保存的用户名和密码）"
   ]
  },
  {
   "cell_type": "markdown",
   "metadata": {},
   "source": [
    "**示例：**"
   ]
  },
  {
   "cell_type": "markdown",
   "metadata": {},
   "source": [
    "-  列出可用的凭据"
   ]
  },
  {
   "cell_type": "markdown",
   "metadata": {},
   "source": [
    "    cmdkey /list "
   ]
  },
  {
   "cell_type": "markdown",
   "metadata": {},
   "source": [
    "-  列出指定目标的凭据"
   ]
  },
  {
   "cell_type": "markdown",
   "metadata": {},
   "source": [
    "    cmdkey /list:10.12.190.82 "
   ]
  },
  {
   "cell_type": "markdown",
   "metadata": {},
   "source": [
    "-  列出指定目标的凭据"
   ]
  },
  {
   "cell_type": "markdown",
   "metadata": {},
   "source": [
    "    cmdkey /list:Domain:target=10.12.190.82 "
   ]
  },
  {
   "cell_type": "markdown",
   "metadata": {},
   "source": [
    "-  若 target 为 10.12.190.82 的凭据不存在，则添加；否则就将 10.12.190.82 凭据的用户名修改为 LiLei，密码修改为 123456"
   ]
  },
  {
   "cell_type": "markdown",
   "metadata": {},
   "source": [
    "    cmdkey /add:Domain:target=10.12.190.82 /user:LiLei /pass:123456 "
   ]
  },
  {
   "cell_type": "markdown",
   "metadata": {},
   "source": [
    "-  删除指定目标的凭据"
   ]
  },
  {
   "cell_type": "markdown",
   "metadata": {},
   "source": [
    "    cmdkey /delete:Domain:target=10.12.190.82 "
   ]
  },
  {
   "cell_type": "markdown",
   "metadata": {},
   "source": [
    "## cscript  执行 vbs 脚本"
   ]
  },
  {
   "cell_type": "markdown",
   "metadata": {},
   "source": [
    "**示例：**"
   ]
  },
  {
   "cell_type": "markdown",
   "metadata": {},
   "source": [
    "-  执行 mac.vbs 脚本，显示本机 mac 地址"
   ]
  },
  {
   "cell_type": "markdown",
   "metadata": {},
   "source": [
    "    cscript /Nologo mac.vbs "
   ]
  },
  {
   "cell_type": "markdown",
   "metadata": {},
   "source": [
    "## netsh advfirewall  设置防火墙"
   ]
  },
  {
   "cell_type": "markdown",
   "metadata": {},
   "source": [
    "windows 防火墙规则顺序：阻止规则的优先级高于允许规则"
   ]
  },
  {
   "cell_type": "markdown",
   "metadata": {},
   "source": [
    "**示例：**"
   ]
  },
  {
   "cell_type": "markdown",
   "metadata": {},
   "source": [
    "-  将防火墙当前的所有配置导出到 d:\\test\\advfirewall.pol 文件"
   ]
  },
  {
   "cell_type": "markdown",
   "metadata": {},
   "source": [
    "    netsh advfirewall export \"d:\\test\\advfirewall.pol\" "
   ]
  },
  {
   "cell_type": "markdown",
   "metadata": {},
   "source": [
    "-  将 d:\\test\\advfirewall.pol 文件中规则导入到防火墙中"
   ]
  },
  {
   "cell_type": "markdown",
   "metadata": {},
   "source": [
    "    netsh advfirewall import \"d:\\test\\advfirewall.pol\" "
   ]
  },
  {
   "cell_type": "markdown",
   "metadata": {},
   "source": [
    "-  将防火墙还原为默认策略"
   ]
  },
  {
   "cell_type": "markdown",
   "metadata": {},
   "source": [
    "    netsh advfirewall reset "
   ]
  },
  {
   "cell_type": "markdown",
   "metadata": {},
   "source": [
    "-  关闭所有类型网络的防火墙（域网络【Domain】、家庭或工作的专用网络【Private】、公用网络都关闭【Public】）"
   ]
  },
  {
   "cell_type": "markdown",
   "metadata": {},
   "source": [
    "    netsh advfirewall set allprofiles state off "
   ]
  },
  {
   "cell_type": "markdown",
   "metadata": {},
   "source": [
    "-  开启所有类型网络的防火墙"
   ]
  },
  {
   "cell_type": "markdown",
   "metadata": {},
   "source": [
    "    netsh advfirewall set allprofiles state on "
   ]
  },
  {
   "cell_type": "markdown",
   "metadata": {},
   "source": [
    "-  关闭当前类型网络的防火墙"
   ]
  },
  {
   "cell_type": "markdown",
   "metadata": {},
   "source": [
    "    netsh advfirewall set currentprofile state off "
   ]
  },
  {
   "cell_type": "markdown",
   "metadata": {},
   "source": [
    "-  开启当前类型网络的防火墙"
   ]
  },
  {
   "cell_type": "markdown",
   "metadata": {},
   "source": [
    "    netsh advfirewall set currentprofile state on"
   ]
  },
  {
   "cell_type": "markdown",
   "metadata": {},
   "source": [
    "-  开启域网络的防火墙"
   ]
  },
  {
   "cell_type": "markdown",
   "metadata": {},
   "source": [
    "    netsh advfirewall set domainprofile state on "
   ]
  },
  {
   "cell_type": "markdown",
   "metadata": {},
   "source": [
    "-  关闭域网络的防火墙"
   ]
  },
  {
   "cell_type": "markdown",
   "metadata": {},
   "source": [
    "    netsh advfirewall set domainprofile state off "
   ]
  },
  {
   "cell_type": "markdown",
   "metadata": {},
   "source": [
    "-  开启家庭或工作的专用网络的防火墙"
   ]
  },
  {
   "cell_type": "markdown",
   "metadata": {},
   "source": [
    "    netsh advfirewall set privateprofile state on "
   ]
  },
  {
   "cell_type": "markdown",
   "metadata": {},
   "source": [
    "-  关闭家庭或工作的专用网络的防火墙"
   ]
  },
  {
   "cell_type": "markdown",
   "metadata": {},
   "source": [
    "    netsh advfirewall set privateprofile state off  "
   ]
  },
  {
   "cell_type": "markdown",
   "metadata": {},
   "source": [
    "-  开启公用网络的防火墙"
   ]
  },
  {
   "cell_type": "markdown",
   "metadata": {},
   "source": [
    "    netsh advfirewall set publicprofile state on "
   ]
  },
  {
   "cell_type": "markdown",
   "metadata": {},
   "source": [
    "-  关闭公用网络的防火墙"
   ]
  },
  {
   "cell_type": "markdown",
   "metadata": {},
   "source": [
    "    netsh advfirewall set publicprofile state off  "
   ]
  },
  {
   "cell_type": "markdown",
   "metadata": {},
   "source": [
    "-  显示所有规则"
   ]
  },
  {
   "cell_type": "markdown",
   "metadata": {},
   "source": [
    "    netsh advfirewall firewall show rule name=all  "
   ]
  },
  {
   "cell_type": "markdown",
   "metadata": {},
   "source": [
    "-  显示名为 foxmail 的所有规则"
   ]
  },
  {
   "cell_type": "markdown",
   "metadata": {},
   "source": [
    "    netsh advfirewall firewall show rule name=foxmail  "
   ]
  },
  {
   "cell_type": "markdown",
   "metadata": {},
   "source": [
    "-  开启 ping 回显"
   ]
  },
  {
   "cell_type": "markdown",
   "metadata": {},
   "source": [
    "    netsh advfirewall firewall set rule name=\"文件和打印机共享(回显请求 - ICMPv4-In)\" new enable=yes "
   ]
  },
  {
   "cell_type": "markdown",
   "metadata": {},
   "source": [
    "-  删除所有名为 NiZhanBrowser 的规则"
   ]
  },
  {
   "cell_type": "markdown",
   "metadata": {},
   "source": [
    "    netsh advfirewall firewall delete rule name=NiZhanBrowser "
   ]
  },
  {
   "cell_type": "markdown",
   "metadata": {},
   "source": [
    "-  删除所有名为 NiZhanBrowser 的入站规则"
   ]
  },
  {
   "cell_type": "markdown",
   "metadata": {},
   "source": [
    "    netsh advfirewall firewall delete rule name=NiZhanBrowser dir=in "
   ]
  },
  {
   "cell_type": "markdown",
   "metadata": {},
   "source": [
    "-  删除所有名为 NiZhanBrowser 且操作为阻止的规则"
   ]
  },
  {
   "cell_type": "markdown",
   "metadata": {},
   "source": [
    "    netsh advfirewall firewall delete rule name=NiZhanBrowser action=block "
   ]
  },
  {
   "cell_type": "markdown",
   "metadata": {},
   "source": [
    "-  添加名为 TCP-In-8888 入站规则：允许 TCP 端口 8888"
   ]
  },
  {
   "cell_type": "markdown",
   "metadata": {},
   "source": [
    "    netsh advfirewall firewall add rule name=TCP-In-8888 protocol=TCP localport=8888 dir=in action=allow "
   ]
  },
  {
   "cell_type": "markdown",
   "metadata": {},
   "source": [
    "-  添加名为 TCP-In-8888 入站规则：阻止 TCP 端口 8888"
   ]
  },
  {
   "cell_type": "markdown",
   "metadata": {},
   "source": [
    "    netsh advfirewall firewall add rule name=TCP-In-8888 protocol=TCP localport=8888 dir=in action=block "
   ]
  },
  {
   "cell_type": "markdown",
   "metadata": {},
   "source": [
    "-  添加名为 TCP-In-8888 出站规则：允许 TCP 端口 8888"
   ]
  },
  {
   "cell_type": "markdown",
   "metadata": {},
   "source": [
    "    netsh advfirewall firewall add rule name=TCP-In-8888 protocol=TCP localport=8888 dir=out action=allow "
   ]
  },
  {
   "cell_type": "markdown",
   "metadata": {},
   "source": [
    "-  添加名为 TCP-In-8888 出站规则：阻止 TCP 端口 8888"
   ]
  },
  {
   "cell_type": "markdown",
   "metadata": {},
   "source": [
    "    netsh advfirewall firewall add rule name=TCP-In-8888 protocol=TCP localport=8888 dir=out action=block "
   ]
  },
  {
   "cell_type": "markdown",
   "metadata": {},
   "source": [
    "- 添加名为 test1 入站规则：允许 TCP 端口 8888、远程 IP 地址在 10.96.208.0/23,10.96.154.0/23 区间、远程 Port 在 1024-2048,2050-65535"
   ]
  },
  {
   "cell_type": "markdown",
   "metadata": {},
   "source": [
    "    netsh advfirewall firewall add rule name=test1 protocol=TCP localport=8888 remoteip=10.96.208.0/23,10.96.154.0/23 remoteport=1024-2048,2050-65535 dir=in action=allow "
   ]
  },
  {
   "cell_type": "markdown",
   "metadata": {},
   "source": [
    "- 添加名为 test2 入站规则：允许 TCP 端口 8888、本地 IP 地址在 10.46.50.32、本地 Port 在 3702"
   ]
  },
  {
   "cell_type": "markdown",
   "metadata": {},
   "source": [
    "    netsh advfirewall firewall add rule name=test2 protocol=TCP localport=8888 localip=10.46.50.32 localport=3702 dir=in action=allow "
   ]
  },
  {
   "cell_type": "markdown",
   "metadata": {},
   "source": [
    "- 添加名为 test3 入站规则：允许 TCP 端口 8888、程序路径为：D:\\tools\\test3.exe"
   ]
  },
  {
   "cell_type": "markdown",
   "metadata": {},
   "source": [
    "    netsh advfirewall firewall add rule name=test2 protocol=TCP localport=8888 program=\"D:\\tools\\test3.exe\" dir=in action=allow "
   ]
  },
  {
   "cell_type": "markdown",
   "metadata": {},
   "source": [
    "- 用来查看帮助信息"
   ]
  },
  {
   "cell_type": "markdown",
   "metadata": {},
   "source": [
    "    netsh advfirewall firewall add rule ?"
   ]
  },
  {
   "cell_type": "markdown",
   "metadata": {},
   "source": [
    "\n",
    "## schtasks  任务计划"
   ]
  },
  {
   "cell_type": "markdown",
   "metadata": {},
   "source": [
    "**示例：**"
   ]
  },
  {
   "cell_type": "markdown",
   "metadata": {},
   "source": [
    "-  以较为详细易于阅读的格式显示本机所有任务计划信息"
   ]
  },
  {
   "cell_type": "markdown",
   "metadata": {},
   "source": [
    "    schtasks /query /fo LIST /v "
   ]
  },
  {
   "cell_type": "markdown",
   "metadata": {},
   "source": [
    "-  创建一个名为 Soda Build 的任务计划：该任务计划每 20 分钟执行一下 d:\\check.vbs 脚本"
   ]
  },
  {
   "cell_type": "markdown",
   "metadata": {},
   "source": [
    "    schtasks /create /sc minute /mo 20 /tn \"Soda Build\" /tr d:\\check.vbs "
   ]
  },
  {
   "cell_type": "markdown",
   "metadata": {},
   "source": [
    "-  强制创建一个名为 Soda Build 的任务计划（不进行确认）：该任务计划每天凌晨 2 点 06 分执行一下 D:\\updateall.bat 脚本"
   ]
  },
  {
   "cell_type": "markdown",
   "metadata": {},
   "source": [
    "    schtasks /create /tn \"Soda Build\" /tr D:\\updateall.bat /sc daily /st 02:06 /f "
   ]
  },
  {
   "cell_type": "markdown",
   "metadata": {},
   "source": [
    "-  强制删除 Soda Build 名称的任务计划（不进行确认）"
   ]
  },
  {
   "cell_type": "markdown",
   "metadata": {},
   "source": [
    "    schtasks /delete /tn \"Soda Build\" /f "
   ]
  },
  {
   "cell_type": "markdown",
   "metadata": {},
   "source": [
    "-  将名为 Soda Build 的任务计划的执行脚本修改为 d:\\check2.vbs"
   ]
  },
  {
   "cell_type": "markdown",
   "metadata": {},
   "source": [
    "    schtasks /change /tn \"Soda Build\" /tr d:\\check2.vbs "
   ]
  },
  {
   "cell_type": "markdown",
   "metadata": {},
   "source": [
    "-  执行名为 Soda Build 的任务计划"
   ]
  },
  {
   "cell_type": "markdown",
   "metadata": {},
   "source": [
    "    schtasks /run /tn \"Soda Build\""
   ]
  },
  {
   "cell_type": "markdown",
   "metadata": {},
   "source": [
    "-  终止执行名为 Soda Build 的任务计划"
   ]
  },
  {
   "cell_type": "markdown",
   "metadata": {},
   "source": [
    "    schtasks /end /tn \"Soda Build\""
   ]
  },
  {
   "cell_type": "markdown",
   "metadata": {},
   "source": [
    "## net"
   ]
  },
  {
   "cell_type": "markdown",
   "metadata": {},
   "source": [
    "-  查看已经启动的服务"
   ]
  },
  {
   "cell_type": "markdown",
   "metadata": {},
   "source": [
    "    net start  "
   ]
  },
  {
   "cell_type": "markdown",
   "metadata": {},
   "source": [
    "-  开启任务计划服务"
   ]
  },
  {
   "cell_type": "markdown",
   "metadata": {},
   "source": [
    "    net start \"Task Scheduler\"   "
   ]
  },
  {
   "cell_type": "markdown",
   "metadata": {},
   "source": [
    "-  不询问，直接关闭任务计划服务"
   ]
  },
  {
   "cell_type": "markdown",
   "metadata": {},
   "source": [
    "    net stop \"Task Scheduler\" /y  "
   ]
  },
  {
   "cell_type": "markdown",
   "metadata": {},
   "source": [
    "-  开启 dns 缓存服务"
   ]
  },
  {
   "cell_type": "markdown",
   "metadata": {},
   "source": [
    "    net start dnscache  "
   ]
  },
  {
   "cell_type": "markdown",
   "metadata": {},
   "source": [
    "-  不询问，直接关闭 dns 缓存服务"
   ]
  },
  {
   "cell_type": "markdown",
   "metadata": {},
   "source": [
    "    net stop dnscache /y  "
   ]
  },
  {
   "cell_type": "markdown",
   "metadata": {},
   "source": [
    "-  开启 Remote Desktop Services 服务"
   ]
  },
  {
   "cell_type": "markdown",
   "metadata": {},
   "source": [
    "    net start TermService  "
   ]
  },
  {
   "cell_type": "markdown",
   "metadata": {},
   "source": [
    "-  不询问，直接关闭 Remote Desktop Services 服务"
   ]
  },
  {
   "cell_type": "markdown",
   "metadata": {},
   "source": [
    "    net stop TermService /y  "
   ]
  },
  {
   "cell_type": "markdown",
   "metadata": {},
   "source": [
    "-  查看当前用户下的共享目录"
   ]
  },
  {
   "cell_type": "markdown",
   "metadata": {},
   "source": [
    "    net share   "
   ]
  },
  {
   "cell_type": "markdown",
   "metadata": {},
   "source": [
    "-  取消名为 workFile 的共享状态"
   ]
  },
  {
   "cell_type": "markdown",
   "metadata": {},
   "source": [
    "    net share workFile /delete  "
   ]
  },
  {
   "cell_type": "markdown",
   "metadata": {},
   "source": [
    "-  将 c:\\360Downloads 设为共享，并取名为 xxx"
   ]
  },
  {
   "cell_type": "markdown",
   "metadata": {},
   "source": [
    "    net share xxx=c:\\360Downloads   "
   ]
  },
  {
   "cell_type": "markdown",
   "metadata": {},
   "source": [
    "-  开启 ipc$共享"
   ]
  },
  {
   "cell_type": "markdown",
   "metadata": {},
   "source": [
    "    net share ipc$ "
   ]
  },
  {
   "cell_type": "markdown",
   "metadata": {},
   "source": [
    "-  删除 ipc$共享"
   ]
  },
  {
   "cell_type": "markdown",
   "metadata": {},
   "source": [
    "    net share ipc$ /del "
   ]
  },
  {
   "cell_type": "markdown",
   "metadata": {},
   "source": [
    "-  删除 c 盘共享"
   ]
  },
  {
   "cell_type": "markdown",
   "metadata": {},
   "source": [
    "    net share c$ /del "
   ]
  },
  {
   "cell_type": "markdown",
   "metadata": {},
   "source": [
    "-  建立 192.168.1.166 的 ipc 空链接"
   ]
  },
  {
   "cell_type": "markdown",
   "metadata": {},
   "source": [
    "    net use \\\\192.168.1.166\\ipc$ \" \" /user:\" \" "
   ]
  },
  {
   "cell_type": "markdown",
   "metadata": {},
   "source": [
    "-  直接登陆后建立 192.168.1.166 的 ipc 非空链接（用户名为 administrator 密码为 123456）"
   ]
  },
  {
   "cell_type": "markdown",
   "metadata": {},
   "source": [
    "    net use \\\\192.168.1.166\\ipc$ \"123456\" /user:\"administrator\"   "
   ]
  },
  {
   "cell_type": "markdown",
   "metadata": {},
   "source": [
    "-  直接登陆后映射 192.168.1.166 的 c 盘到本地为 h 盘（用户名为 administrator 密码为 123456）"
   ]
  },
  {
   "cell_type": "markdown",
   "metadata": {},
   "source": [
    "    net use h: \\\\192.168.1.166\\c$ \"123456\" /user:\"administrator\"   "
   ]
  },
  {
   "cell_type": "markdown",
   "metadata": {},
   "source": [
    "-  登陆后映射 192.168.1.166 的 c 盘到本地为 h 盘"
   ]
  },
  {
   "cell_type": "markdown",
   "metadata": {},
   "source": [
    "    net use h: \\\\192.168.1.166\\c$   "
   ]
  },
  {
   "cell_type": "markdown",
   "metadata": {},
   "source": [
    "-  删除 ipc 链接"
   ]
  },
  {
   "cell_type": "markdown",
   "metadata": {},
   "source": [
    "    net use \\\\192.168.1.166\\ipc$ /del  "
   ]
  },
  {
   "cell_type": "markdown",
   "metadata": {},
   "source": [
    "-  删除本地的 h 盘的映射"
   ]
  },
  {
   "cell_type": "markdown",
   "metadata": {},
   "source": [
    "    net use h: /del "
   ]
  },
  {
   "cell_type": "markdown",
   "metadata": {},
   "source": [
    "-  查看本地局域网内开启了哪些共享"
   ]
  },
  {
   "cell_type": "markdown",
   "metadata": {},
   "source": [
    "    net view   "
   ]
  },
  {
   "cell_type": "markdown",
   "metadata": {},
   "source": [
    "-  查看 192.168.1.166 的机器上在局域网内开启了哪些共享"
   ]
  },
  {
   "cell_type": "markdown",
   "metadata": {},
   "source": [
    "    net view \\\\192.168.1.166  "
   ]
  },
  {
   "cell_type": "markdown",
   "metadata": {},
   "source": [
    "-  查看本地机器的日期及时间"
   ]
  },
  {
   "cell_type": "markdown",
   "metadata": {},
   "source": [
    "    net time \\\\127.0.0.1   "
   ]
  },
  {
   "cell_type": "markdown",
   "metadata": {},
   "source": [
    "-  查看本地机器的日期及时间"
   ]
  },
  {
   "cell_type": "markdown",
   "metadata": {},
   "source": [
    "    net time \\\\localhost   "
   ]
  },
  {
   "cell_type": "markdown",
   "metadata": {},
   "source": [
    "-  查看 192.168.1.166 机器的日期及时间"
   ]
  },
  {
   "cell_type": "markdown",
   "metadata": {},
   "source": [
    "    net time \\\\192.168.1.166   "
   ]
  },
  {
   "cell_type": "markdown",
   "metadata": {},
   "source": [
    "-  设置本地计算机时间与 192.168.1.166 主机的时间同步，加上参数/yes 可取消确认信息"
   ]
  },
  {
   "cell_type": "markdown",
   "metadata": {},
   "source": [
    "    net time \\\\192.168.1.166 /set  "
   ]
  },
  {
   "cell_type": "markdown",
   "metadata": {},
   "source": [
    "-  查看当前机器上的用户"
   ]
  },
  {
   "cell_type": "markdown",
   "metadata": {},
   "source": [
    "    net user  "
   ]
  },
  {
   "cell_type": "markdown",
   "metadata": {},
   "source": [
    "-  查看当前机器上的 Administrator 用户的信息"
   ]
  },
  {
   "cell_type": "markdown",
   "metadata": {},
   "source": [
    "    net user Administrator   "
   ]
  },
  {
   "cell_type": "markdown",
   "metadata": {},
   "source": [
    "-  启用 Guest 用户"
   ]
  },
  {
   "cell_type": "markdown",
   "metadata": {},
   "source": [
    "    net user Guest /active:yes  "
   ]
  },
  {
   "cell_type": "markdown",
   "metadata": {},
   "source": [
    "-  新建一个名为 dev，密码为 123456 的用户"
   ]
  },
  {
   "cell_type": "markdown",
   "metadata": {},
   "source": [
    "    net user dev 123456 /add   "
   ]
  },
  {
   "cell_type": "markdown",
   "metadata": {},
   "source": [
    "-  把名为 dev 的用户添加到管理员用户组中，使其具有管理员权限"
   ]
  },
  {
   "cell_type": "markdown",
   "metadata": {},
   "source": [
    "    net localgroup administrators dev /add  "
   ]
  },
  {
   "cell_type": "markdown",
   "metadata": {},
   "source": [
    "-  删除名为 dev 的用户"
   ]
  },
  {
   "cell_type": "markdown",
   "metadata": {},
   "source": [
    "    net user dev /del  "
   ]
  },
  {
   "cell_type": "markdown",
   "metadata": {},
   "source": [
    "## tasklist 显示当前运行的进程信息（可查看 PID）"
   ]
  },
  {
   "cell_type": "markdown",
   "metadata": {},
   "source": [
    "## taskkill  结束指定的进程"
   ]
  },
  {
   "cell_type": "markdown",
   "metadata": {},
   "source": [
    "**示例：**"
   ]
  },
  {
   "cell_type": "markdown",
   "metadata": {},
   "source": [
    "-  结束名为 notepad.exe 的进程"
   ]
  },
  {
   "cell_type": "markdown",
   "metadata": {},
   "source": [
    "    taskkill /im notepad.exe "
   ]
  },
  {
   "cell_type": "markdown",
   "metadata": {},
   "source": [
    "-  结束 pid 为 1230、1241 和 1253 的进程以及由它们启动起来的子进程"
   ]
  },
  {
   "cell_type": "markdown",
   "metadata": {},
   "source": [
    "    taskkill /pid 1230 /pid 1241 /pid 1253 /t"
   ]
  },
  {
   "cell_type": "markdown",
   "metadata": {},
   "source": [
    "-  强制结束有名为 cmd.exe 的进程以及由它启动起来的子进程"
   ]
  },
  {
   "cell_type": "markdown",
   "metadata": {},
   "source": [
    "    taskkill /f /im cmd.exe /t  "
   ]
  },
  {
   "cell_type": "markdown",
   "metadata": {},
   "source": [
    "\n",
    "## ping "
   ]
  },
  {
   "cell_type": "markdown",
   "metadata": {},
   "source": [
    "用于检测网络是否通畅，以及网络时延情况（工作在 ICMP 协议上）"
   ]
  },
  {
   "cell_type": "markdown",
   "metadata": {},
   "source": [
    "**示例：**"
   ]
  },
  {
   "cell_type": "markdown",
   "metadata": {},
   "source": [
    "-   测试与 baidu 服务器的连接情况"
   ]
  },
  {
   "cell_type": "markdown",
   "metadata": {},
   "source": [
    "    ping baidu.com  "
   ]
  },
  {
   "cell_type": "markdown",
   "metadata": {},
   "source": [
    "-  测试机器名为 chen-pc0 的连接情况"
   ]
  },
  {
   "cell_type": "markdown",
   "metadata": {},
   "source": [
    "    ping chen-pc0  "
   ]
  },
  {
   "cell_type": "markdown",
   "metadata": {},
   "source": [
    "-  测试与 ip 为 220.181.111.86 的连接情况"
   ]
  },
  {
   "cell_type": "markdown",
   "metadata": {},
   "source": [
    "    ping 220.181.111.86  "
   ]
  },
  {
   "cell_type": "markdown",
   "metadata": {},
   "source": [
    "-  向 qq.com 发送 10 次 65500 字节的 ping"
   ]
  },
  {
   "cell_type": "markdown",
   "metadata": {},
   "source": [
    "    ping -l 65500 -n 10 qq.com  "
   ]
  },
  {
   "cell_type": "markdown",
   "metadata": {},
   "source": [
    "-  对当前主机执行 6 次 ping 操作（花费时间为 5s）"
   ]
  },
  {
   "cell_type": "markdown",
   "metadata": {},
   "source": [
    "    ping -n 6 127.0.0.1"
   ]
  },
  {
   "cell_type": "markdown",
   "metadata": {},
   "source": [
    "-  不断地测试 baidu 服务器的连接情况 `Ctrl+Pause Break`：查看 ping 的统计信息；`Ctrl+C`：终止当前任务"
   ]
  },
  {
   "cell_type": "markdown",
   "metadata": {},
   "source": [
    "    ping -t baidu.com  "
   ]
  },
  {
   "cell_type": "markdown",
   "metadata": {},
   "source": [
    "## ipconfig"
   ]
  },
  {
   "cell_type": "markdown",
   "metadata": {},
   "source": [
    "-  查看本地 ip 地址等详细信息"
   ]
  },
  {
   "cell_type": "markdown",
   "metadata": {},
   "source": [
    "    ipconfig /all  "
   ]
  },
  {
   "cell_type": "markdown",
   "metadata": {},
   "source": [
    "-  显示本地 dns 缓存的内容"
   ]
  },
  {
   "cell_type": "markdown",
   "metadata": {},
   "source": [
    "    ipconfig /displaydns  "
   ]
  },
  {
   "cell_type": "markdown",
   "metadata": {},
   "source": [
    "-  清除本地 dns 缓存的内容"
   ]
  },
  {
   "cell_type": "markdown",
   "metadata": {},
   "source": [
    "    ipconfig /flushdns  "
   ]
  },
  {
   "cell_type": "markdown",
   "metadata": {},
   "source": [
    "## nslookup"
   ]
  },
  {
   "cell_type": "markdown",
   "metadata": {},
   "source": [
    "**示例：**"
   ]
  },
  {
   "cell_type": "markdown",
   "metadata": {},
   "source": [
    "- 获取 www.cnblogs.com 的域名解析"
   ]
  },
  {
   "cell_type": "markdown",
   "metadata": {},
   "source": [
    "    nslookup www.cnblogs.com "
   ]
  },
  {
   "cell_type": "markdown",
   "metadata": {},
   "source": [
    "- 打印出 www.cnblogs.com 的域名解析所有记录"
   ]
  },
  {
   "cell_type": "markdown",
   "metadata": {},
   "source": [
    "    nslookup -d www.cnblogs.com "
   ]
  },
  {
   "cell_type": "markdown",
   "metadata": {},
   "source": [
    "## netstat"
   ]
  },
  {
   "cell_type": "markdown",
   "metadata": {},
   "source": [
    "-  查看开启了哪些端口"
   ]
  },
  {
   "cell_type": "markdown",
   "metadata": {},
   "source": [
    "    netstat -a   "
   ]
  },
  {
   "cell_type": "markdown",
   "metadata": {},
   "source": [
    "-  查看开启了哪些端口，并显示进程 pid"
   ]
  },
  {
   "cell_type": "markdown",
   "metadata": {},
   "source": [
    "    netstat -ao "
   ]
  },
  {
   "cell_type": "markdown",
   "metadata": {},
   "source": [
    "-  查看端口的网络连接情况"
   ]
  },
  {
   "cell_type": "markdown",
   "metadata": {},
   "source": [
    "    netstat -n  "
   ]
  },
  {
   "cell_type": "markdown",
   "metadata": {},
   "source": [
    "-  查看正在进行的工作"
   ]
  },
  {
   "cell_type": "markdown",
   "metadata": {},
   "source": [
    "    netstat -v   "
   ]
  },
  {
   "cell_type": "markdown",
   "metadata": {},
   "source": [
    "-  查看 tcp 协议的使用情况"
   ]
  },
  {
   "cell_type": "markdown",
   "metadata": {},
   "source": [
    "    netstat -p tcp  "
   ]
  },
  {
   "cell_type": "markdown",
   "metadata": {},
   "source": [
    "## tracert"
   ]
  },
  {
   "cell_type": "markdown",
   "metadata": {},
   "source": [
    "`tracert 182.140.167.44` 查看本机到达 182.140.167.44 的路由路径"
   ]
  },
  {
   "cell_type": "markdown",
   "metadata": {},
   "source": [
    "## route print 显示出 IP 路由"
   ]
  },
  {
   "cell_type": "markdown",
   "metadata": {},
   "source": [
    "## telnet 182.140.167.44 8000"
   ]
  },
  {
   "cell_type": "markdown",
   "metadata": {},
   "source": [
    "探测 182.140.167.44 是否使用 TCP 协议监听 8000 端口（注意：telnet 命令不支持 UDP 端口检测）"
   ]
  },
  {
   "cell_type": "markdown",
   "metadata": {},
   "source": [
    "说明：如果端口关闭或者无法连接，则显示不能打开到主机的链接，链接失败；端口打开的情况下，链接成功，则进入 telnet 页面（全黑的），证明端口可用。"
   ]
  },
  {
   "cell_type": "markdown",
   "metadata": {},
   "source": [
    "用于探测指定 IP 的端口号，只是 telnet 的一个基本功能；"
   ]
  },
  {
   "cell_type": "markdown",
   "metadata": {},
   "source": [
    "远程登录到网络中的计算机，并以命令行的方式远程管理计算机才是 telnet 命令的强大之处。"
   ]
  },
  {
   "cell_type": "markdown",
   "metadata": {},
   "source": [
    "\n",
    "## ftp 46.19.34.198 21"
   ]
  },
  {
   "cell_type": "markdown",
   "metadata": {},
   "source": [
    "连接 46.19.34.198 ftp 服务器（21 为端口号），然后会要求输入用户名与密码；连接成功后，具体如何使用可以键入?来查看帮助说明"
   ]
  },
  {
   "cell_type": "markdown",
   "metadata": {},
   "source": [
    "## arp   显示和修改地址解析协议(ARP)使用的“IP 到 mac”的地址转换表"
   ]
  },
  {
   "cell_type": "markdown",
   "metadata": {},
   "source": [
    "**示例：**"
   ]
  },
  {
   "cell_type": "markdown",
   "metadata": {},
   "source": [
    "-  显示 arp 缓存表"
   ]
  },
  {
   "cell_type": "markdown",
   "metadata": {},
   "source": [
    "    arp -a "
   ]
  },
  {
   "cell_type": "markdown",
   "metadata": {},
   "source": [
    "## at  计划任务"
   ]
  },
  {
   "cell_type": "markdown",
   "metadata": {},
   "source": [
    "必须保证“Task Scheduler”服务启动   `net start \"task scheduler\"`"
   ]
  },
  {
   "cell_type": "markdown",
   "metadata": {},
   "source": [
    "**示例：**"
   ]
  },
  {
   "cell_type": "markdown",
   "metadata": {},
   "source": [
    "-  查看所有的计划任务"
   ]
  },
  {
   "cell_type": "markdown",
   "metadata": {},
   "source": [
    "    at "
   ]
  },
  {
   "cell_type": "markdown",
   "metadata": {},
   "source": [
    "-  停止所有任务计划（不需要确认）"
   ]
  },
  {
   "cell_type": "markdown",
   "metadata": {},
   "source": [
    "    at /delete /yes "
   ]
  },
  {
   "cell_type": "markdown",
   "metadata": {},
   "source": [
    "-  开启 id 为 1 的计划任务"
   ]
  },
  {
   "cell_type": "markdown",
   "metadata": {},
   "source": [
    "    at 1 "
   ]
  },
  {
   "cell_type": "markdown",
   "metadata": {},
   "source": [
    "-  停止 id 为 1 的计划任务（不需要确认）"
   ]
  },
  {
   "cell_type": "markdown",
   "metadata": {},
   "source": [
    "    at 1 /delete /yes "
   ]
  },
  {
   "cell_type": "markdown",
   "metadata": {},
   "source": [
    "-  到 12:42 ，电脑会出现“ 系统关机 ”对话框，并默认 30 秒延时自动关机"
   ]
  },
  {
   "cell_type": "markdown",
   "metadata": {},
   "source": [
    "    at 12:42 shutdown –s –t30  "
   ]
  },
  {
   "cell_type": "markdown",
   "metadata": {},
   "source": [
    "-  如果命令不是 exe 文件，必须在命令前加上 cmd /c"
   ]
  },
  {
   "cell_type": "markdown",
   "metadata": {},
   "source": [
    "    at cmd /c dir > c:\\test.out  "
   ]
  },
  {
   "cell_type": "markdown",
   "metadata": {},
   "source": [
    "-  在每周六早上 6 点，电脑定时启动 task.bat 批处理文件"
   ]
  },
  {
   "cell_type": "markdown",
   "metadata": {},
   "source": [
    "    at 6:00AM /every:Saturday task.bat  "
   ]
  },
  {
   "cell_type": "markdown",
   "metadata": {},
   "source": [
    "-  到 12:00 时，关闭名为 chen 的计算机"
   ]
  },
  {
   "cell_type": "markdown",
   "metadata": {},
   "source": [
    "    at \\\\chen 12:00 shutdown /r  "
   ]
  },
  {
   "cell_type": "markdown",
   "metadata": {},
   "source": [
    "-  到 12:00 时，关闭 ip 为 192.168.1.166 的计算机"
   ]
  },
  {
   "cell_type": "markdown",
   "metadata": {},
   "source": [
    "    at \\\\192.168.1.166 12:00 shutdown /r  "
   ]
  },
  {
   "cell_type": "markdown",
   "metadata": {},
   "source": [
    "\n",
    "## edit config.ini"
   ]
  },
  {
   "cell_type": "markdown",
   "metadata": {},
   "source": [
    "编辑 config.ini 文件（会进入 edit 字符编辑器；按 alt，可以选择对应的菜单） win7 x64 下没有该命令"
   ]
  },
  {
   "cell_type": "markdown",
   "metadata": {},
   "source": [
    "## find  文件中搜索字符串"
   ]
  },
  {
   "cell_type": "markdown",
   "metadata": {},
   "source": [
    "**示例：**"
   ]
  },
  {
   "cell_type": "markdown",
   "metadata": {},
   "source": [
    "-  在 1.txt 文件中忽略大小写查找 pid 字符串，并带行号显示查找后的结果"
   ]
  },
  {
   "cell_type": "markdown",
   "metadata": {},
   "source": [
    "    find /N /I \"pid\" 1.txt "
   ]
  },
  {
   "cell_type": "markdown",
   "metadata": {},
   "source": [
    "-  只显示在 1.txt 文件中查找到 exe 字符串的次数"
   ]
  },
  {
   "cell_type": "markdown",
   "metadata": {},
   "source": [
    "    find /C \"exe\" 1.txt "
   ]
  },
  {
   "cell_type": "markdown",
   "metadata": {},
   "source": [
    "-  显示未包含 1.txt 文件中未包含 exe 字符串的行"
   ]
  },
  {
   "cell_type": "markdown",
   "metadata": {},
   "source": [
    "    find /V \"exe\" 1.txt "
   ]
  },
  {
   "cell_type": "markdown",
   "metadata": {},
   "source": [
    "## findstr  文件中搜索字符串"
   ]
  },
  {
   "cell_type": "markdown",
   "metadata": {},
   "source": [
    "**示例：**"
   ]
  },
  {
   "cell_type": "markdown",
   "metadata": {},
   "source": [
    "-  在 1.txt 文件中搜索 hello 或 world"
   ]
  },
  {
   "cell_type": "markdown",
   "metadata": {},
   "source": [
    "    findstr \"hello world\" 1.txt "
   ]
  },
  {
   "cell_type": "markdown",
   "metadata": {},
   "source": [
    "-  在 1.txt 文件中搜索 hello world"
   ]
  },
  {
   "cell_type": "markdown",
   "metadata": {},
   "source": [
    "    findstr /c:\"hello world\" 1.txt "
   ]
  },
  {
   "cell_type": "markdown",
   "metadata": {},
   "source": [
    "-  在 1.txt 文件中搜索 hello world，并在每行结果前打印出 1.txt:   注：findstr 只有在 2 个及以上文件中搜索字符串时才会打印出每个文件的文件名，nul 表示一个空文件"
   ]
  },
  {
   "cell_type": "markdown",
   "metadata": {},
   "source": [
    "    findstr /c:\"hello world\" 1.txt nul "
   ]
  },
  {
   "cell_type": "markdown",
   "metadata": {},
   "source": [
    "-  不区分大小写，在当前目录和所有子目录中的所有文件中的 hello"
   ]
  },
  {
   "cell_type": "markdown",
   "metadata": {},
   "source": [
    "    findstr /s /i \"Hello\" *.*  "
   ]
  },
  {
   "cell_type": "markdown",
   "metadata": {},
   "source": [
    "-  在 1.txt 中搜索以 1 个数字 +1 个小写字母开头子串的行"
   ]
  },
  {
   "cell_type": "markdown",
   "metadata": {},
   "source": [
    "    findstr  \"^[0-9][a-z]\" 1.txt "
   ]
  }
 ],
 "metadata": {
  "kernelspec": {
   "display_name": "Python 3",
   "language": "python",
   "name": "python3"
  },
  "language_info": {
   "codemirror_mode": {
    "name": "ipython",
    "version": 3
   },
   "file_extension": ".py",
   "mimetype": "text/x-python",
   "name": "python",
   "nbconvert_exporter": "python",
   "pygments_lexer": "ipython3",
   "version": "3.7.3"
  }
 },
 "nbformat": 4,
 "nbformat_minor": 2
}